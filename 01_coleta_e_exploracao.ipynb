{
 "cells": [
  {
   "cell_type": "markdown",
   "id": "b53bd61d",
   "metadata": {},
   "source": [
    "# 🧪 Análise Exploratória Inicial\n",
    "\n",
    "Este notebook tem como objetivo realizar a exploração inicial da base de dados contendo os equipamentos de climatização das unidades hospitalares do módulo Leste II."
   ]
  },
  {
   "cell_type": "code",
   "execution_count": null,
   "id": "965e50b5",
   "metadata": {},
   "outputs": [],
   "source": [
    "import pandas as pd\n",
    "\n",
    "# Carregar os dados\n",
    "df = pd.read_csv('../data/raw/analise_dados_gerais - Mês 1.csv')\n",
    "\n",
    "# Visualizar as 5 primeiras linhas\n",
    "df.head()"
   ]
  },
  {
   "cell_type": "code",
   "execution_count": null,
   "id": "283d6b9c",
   "metadata": {},
   "outputs": [],
   "source": [
    "# Verificar o formato geral da base\n",
    "df.info()"
   ]
  },
  {
   "cell_type": "code",
   "execution_count": null,
   "id": "612e79ec",
   "metadata": {},
   "outputs": [],
   "source": [
    "# Verificar valores ausentes por coluna\n",
    "df.isnull().sum().sort_values(ascending=False)"
   ]
  },
  {
   "cell_type": "code",
   "execution_count": null,
   "id": "5fdd98f1",
   "metadata": {},
   "outputs": [],
   "source": [
    "# Estatísticas descritivas das colunas numéricas\n",
    "df.describe()"
   ]
  },
  {
   "cell_type": "markdown",
   "id": "f6b1e220",
   "metadata": {},
   "source": [
    "### ✅ Observações\n",
    "- Identificar colunas com alto volume de dados ausentes.\n",
    "- Verificar necessidade de preenchimento vs. exclusão.\n",
    "- Entender possíveis outliers ou valores inesperados."
   ]
  }
 ],
 "metadata": {},
 "nbformat": 4,
 "nbformat_minor": 5
}
